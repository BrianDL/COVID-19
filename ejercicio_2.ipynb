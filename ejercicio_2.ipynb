{
  "nbformat": 4,
  "nbformat_minor": 0,
  "metadata": {
    "colab": {
      "provenance": [],
      "authorship_tag": "ABX9TyMI3JCAMZ5ouTMUdG/++rv+",
      "include_colab_link": true
    },
    "kernelspec": {
      "name": "python3",
      "display_name": "Python 3"
    },
    "language_info": {
      "name": "python"
    }
  },
  "cells": [
    {
      "cell_type": "markdown",
      "metadata": {
        "id": "view-in-github",
        "colab_type": "text"
      },
      "source": [
        "<a href=\"https://colab.research.google.com/github/BrianDL/COVID-19/blob/master/ejercicio_2.ipynb\" target=\"_parent\"><img src=\"https://colab.research.google.com/assets/colab-badge.svg\" alt=\"Open In Colab\"/></a>"
      ]
    },
    {
      "cell_type": "code",
      "execution_count": null,
      "metadata": {
        "id": "eWGxZHhG73IU"
      },
      "outputs": [],
      "source": [
        "from math import sin, cos, pi\n",
        "\n",
        "\n",
        "class Cuerda:\n",
        "  \"\"\" Representa una cuerda bajo tensión.\"\"\"\n",
        "\n",
        "  def __init__(self, angulo:float = 0):\n",
        "    \"\"\" Inicializamos la cuerda con el ángulo con respecto a la vertical.\n",
        "    Parámetros:\n",
        "    angulo (float): Ángulo con respecto a la vertical en radianes.\n",
        "        Debe ser un número entre 0 y 0.5*pi\n",
        "    \"\"\"\n",
        "\n",
        "    self.angulo = angulo\n",
        "\n",
        "\n",
        "class Sistema:\n",
        "  \"\"\"Representa un sistema de cuerdas en equilibrio estático.\"\"\"\n",
        "\n",
        "  def __calcular_tension(self):\n",
        "    \"\"\"Resolvemos el sistema de ecuaciones utilizando matrices, este método nos\n",
        "    permite generalizar para n cuerdas en el siguiente ejercicio más fácilmente.\n",
        "    \"\"\"\n",
        "\n",
        "    # Construímos primero una matriz que necesitamos diagonalizar\n",
        "    ecuacion_en_x = [ sin(c.angulo) for c in self.__cuerdas ] + [0]\n",
        "    ecuacion_en_y = [ cos(c.angulo) for c in self.__cuerdas ] + [self.__tension]\n",
        "\n",
        "    # primero eliminamos el segundo elemento en la ecuación en x\n",
        "    ecuacion_en_x = [ c*ecuacion_en_y[1] for c in ecuacion_en_x ]\n",
        "    ecuacion_en_y = [ c*ecuacion_en_x[1] for c in ecuacion_en_y ]\n",
        "\n",
        "\n",
        "    ecuacion_en_x = [ ecuacion_en_x[i] - ecuacion_en_y[i] for i in range(3) ]\n",
        "\n",
        "    # luego eliminamos el primer elemento en la ecuacion en y\n",
        "    ecuacion_en_x = [ c*ecuacion_en_y[0] for c in ecuacion_en_x ]\n",
        "    ecuacion_en_y = [ c*ecuacion_en_x[0] for c in ecuacion_en_y ]\n",
        "\n",
        "    ecuacion_en_y = [ ecuacion_en_y[i] - ecuacion_en_x[i] for i in range(3) ]\n",
        "\n",
        "    # con la matriz diagonalizada, podemos devolver el resultado\n",
        "    t1 = ecuacion_en_x[-1] / ecuacion_en_x[0]\n",
        "    t2 = ecuacion_en_y[-1] / ecuacion_en_y[1]\n",
        "\n",
        "    return [t1, t2]\n",
        "\n",
        "\n",
        "  def tensar(self, N:float, a1:float, a2:float):\n",
        "    cuerda1 = Cuerda(angulo= a1)\n",
        "    cuerda2 = Cuerda(angulo= a2)\n",
        "\n",
        "    self.__cuerdas = [cuerda1, cuerda2]\n",
        "    self.__tensión = N  # tensión a la que está sujeto el sistema\n",
        "\n",
        "    return self.__calcular_tensión()"
      ]
    }
  ]
}